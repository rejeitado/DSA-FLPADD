{
 "cells": [
  {
   "cell_type": "code",
   "execution_count": 1,
   "id": "aaec6edb-3136-4065-a021-d6eb171d1b9b",
   "metadata": {},
   "outputs": [
    {
     "data": {
      "text/plain": [
       "8"
      ]
     },
     "execution_count": 1,
     "metadata": {},
     "output_type": "execute_result"
    }
   ],
   "source": [
    "2+6"
   ]
  },
  {
   "cell_type": "code",
   "execution_count": 4,
   "id": "f0a63cec",
   "metadata": {},
   "outputs": [
    {
     "name": "stdout",
     "output_type": "stream",
     "text": [
      "olá Mundo!\n"
     ]
    }
   ],
   "source": [
    "print(\"olá Mundo!\")"
   ]
  },
  {
   "cell_type": "markdown",
   "id": "b9d88be7",
   "metadata": {},
   "source": [
    "Gerando código que lista números de 1 a 100, onde imprime apenas números pares que são divisível por 4."
   ]
  },
  {
   "cell_type": "code",
   "execution_count": 5,
   "id": "4527ab5b",
   "metadata": {},
   "outputs": [
    {
     "name": "stdout",
     "output_type": "stream",
     "text": [
      "4\n",
      "8\n",
      "12\n",
      "16\n",
      "20\n",
      "24\n",
      "28\n",
      "32\n",
      "36\n",
      "40\n",
      "44\n",
      "48\n",
      "52\n",
      "56\n",
      "60\n",
      "64\n",
      "68\n",
      "72\n",
      "76\n",
      "80\n",
      "84\n",
      "88\n",
      "92\n",
      "96\n",
      "100\n"
     ]
    }
   ],
   "source": [
    "numeros = list(range(1, 101))\n",
    "\n",
    "for numero in numeros:\n",
    "    if numero % 2 == 0 and numero % 4 == 0:\n",
    "        print(numero)"
   ]
  },
  {
   "cell_type": "markdown",
   "id": "31079440",
   "metadata": {},
   "source": [
    "Utilizando List Comprehension no código acima.  \n",
    "Você que está utilizando List Comprehension quando utiliza \"[]\"."
   ]
  },
  {
   "cell_type": "code",
   "execution_count": 7,
   "id": "8625c26c",
   "metadata": {},
   "outputs": [
    {
     "name": "stdout",
     "output_type": "stream",
     "text": [
      "[4, 8, 12, 16, 20, 24, 28, 32, 36, 40, 44, 48, 52, 56, 60, 64, 68, 72, 76, 80, 84, 88, 92, 96, 100]\n"
     ]
    }
   ],
   "source": [
    "numeros = list(range(1, 101))\n",
    "\n",
    "pares_div4 = [numero for numero in numeros if numero % 2 == 0 and numero % 4 == 0]\n",
    "\n",
    "print(pares_div4)"
   ]
  },
  {
   "cell_type": "markdown",
   "id": "8d6a7b81",
   "metadata": {},
   "source": [
    "Verificando se pares_div4 é uma lista"
   ]
  },
  {
   "cell_type": "code",
   "execution_count": 8,
   "id": "7b914622",
   "metadata": {},
   "outputs": [
    {
     "data": {
      "text/plain": [
       "list"
      ]
     },
     "execution_count": 8,
     "metadata": {},
     "output_type": "execute_result"
    }
   ],
   "source": [
    "type(pares_div4)"
   ]
  }
 ],
 "metadata": {
  "kernelspec": {
   "display_name": "base",
   "language": "python",
   "name": "python3"
  },
  "language_info": {
   "codemirror_mode": {
    "name": "ipython",
    "version": 3
   },
   "file_extension": ".py",
   "mimetype": "text/x-python",
   "name": "python",
   "nbconvert_exporter": "python",
   "pygments_lexer": "ipython3",
   "version": "3.12.7"
  }
 },
 "nbformat": 4,
 "nbformat_minor": 5
}
