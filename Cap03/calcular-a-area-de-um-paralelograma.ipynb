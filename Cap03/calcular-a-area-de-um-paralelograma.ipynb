{
 "cells": [
  {
   "cell_type": "markdown",
   "id": "5b2b230d",
   "metadata": {},
   "source": [
    " Descreva um pseudocodigo para Calcular a Área de Um Paralelograma.\n",
    "\n",
    " Inicie  \n",
    " \n",
    " 1.  Declare as variáveis  comprimento e altura.  \n",
    " 2.  Peça ao usuário para fornecer os valores de comprimento e altura.  \n",
    " 3. Calcule a área multiplicando comprimento pela altura.  \n",
    " 4. Armazene o resultado na variável \"área\".  \n",
    " 5.  Imprima o valor da variável \"área\".  \n",
    "\n",
    "Fim"
   ]
  },
  {
   "cell_type": "code",
   "execution_count": 1,
   "id": "43732483",
   "metadata": {},
   "outputs": [
    {
     "name": "stdout",
     "output_type": "stream",
     "text": [
      "Bem-vindo ao calculador de área de paralelograma\n"
     ]
    }
   ],
   "source": [
    "print(\"Bem-vindo ao calculador de área de paralelograma\")"
   ]
  },
  {
   "cell_type": "code",
   "execution_count": 2,
   "id": "dd5ca229",
   "metadata": {},
   "outputs": [],
   "source": [
    "base = float(input(\"Insira o comprimento da base: \"))"
   ]
  },
  {
   "cell_type": "code",
   "execution_count": 3,
   "id": "1ad583c3",
   "metadata": {},
   "outputs": [],
   "source": [
    "altura = (float(input(\"Insira a altura: \")))"
   ]
  },
  {
   "cell_type": "code",
   "execution_count": 4,
   "id": "acf52577",
   "metadata": {},
   "outputs": [],
   "source": [
    "area = base * altura"
   ]
  },
  {
   "cell_type": "code",
   "execution_count": 5,
   "id": "1d4fa067",
   "metadata": {},
   "outputs": [
    {
     "name": "stdout",
     "output_type": "stream",
     "text": [
      "A área do paralelograma é:  30.0\n"
     ]
    }
   ],
   "source": [
    "print(\"A área do paralelograma é: \", area)"
   ]
  }
 ],
 "metadata": {
  "kernelspec": {
   "display_name": "base",
   "language": "python",
   "name": "python3"
  },
  "language_info": {
   "codemirror_mode": {
    "name": "ipython",
    "version": 3
   },
   "file_extension": ".py",
   "mimetype": "text/x-python",
   "name": "python",
   "nbconvert_exporter": "python",
   "pygments_lexer": "ipython3",
   "version": "3.12.7"
  }
 },
 "nbformat": 4,
 "nbformat_minor": 5
}
