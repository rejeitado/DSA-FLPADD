{
 "cells": [
  {
   "cell_type": "markdown",
   "id": "94d6ec38",
   "metadata": {},
   "source": [
    "Calculadora Simples\n",
    "\n",
    "Inicie\n",
    "\n",
    "    Exiba \"Bem-vindo à Calculadora\"\n",
    "    Peça para o usuário inserir o primeiro número\n",
    "    Armazene o primeiro número em uma variável\n",
    "    Peça para o usuário inserir o segundo número\n",
    "    Armazene o segundo número em uma variável\n",
    "    Peça para o usuário selecionar uma operação (+, -, *, /)\n",
    "    Armazene a operação em uma variável\n",
    "    Utilize a operação selecionada e os números armazenados para realizar o cálculo\n",
    "    Exiba o resultado\n",
    "\n",
    "Fim\n"
   ]
  },
  {
   "cell_type": "code",
   "execution_count": 1,
   "id": "e64d1fb1",
   "metadata": {},
   "outputs": [
    {
     "name": "stdout",
     "output_type": "stream",
     "text": [
      "Bem-vindo à calculadora\n"
     ]
    }
   ],
   "source": [
    "print(\"Bem-vindo à calculadora\")"
   ]
  },
  {
   "cell_type": "code",
   "execution_count": 2,
   "id": "6fa0b4f1",
   "metadata": {},
   "outputs": [],
   "source": [
    "num1 = float(input(\"Insira o primeiro número: \"))"
   ]
  },
  {
   "cell_type": "code",
   "execution_count": 3,
   "id": "62c3fa03",
   "metadata": {},
   "outputs": [],
   "source": [
    "num2 = float(input(\"Insira o segundo número: \"))"
   ]
  },
  {
   "cell_type": "code",
   "execution_count": 4,
   "id": "58ea683d",
   "metadata": {},
   "outputs": [],
   "source": [
    "operacao = input(\"Escolha a operação (+, -, *, /): \")"
   ]
  },
  {
   "cell_type": "code",
   "execution_count": null,
   "id": "c171cca7",
   "metadata": {},
   "outputs": [
    {
     "name": "stdout",
     "output_type": "stream",
     "text": [
      "O resultado é:  5.0\n"
     ]
    }
   ],
   "source": [
    "if operacao == '+':\n",
    "    resultado = num1 + num2\n",
    "    print(\"O resultado é: \", resultado)\n",
    "    \n",
    "elif operacao == '-':\n",
    "    resultado = num1 - num2\n",
    "    print(\"O resultado é: \", resultado)\n",
    "    \n",
    "elif operacao == '*':\n",
    "    resultado = num1 * num2\n",
    "    print(\"O resultado é: \", resultado)\n",
    "    \n",
    "elif operacao == '/':\n",
    "    resultado = num1 / num2\n",
    "    print(\"O resultado é: \", resultado)\n",
    "    \n",
    "else:\n",
    "    print(\"Operação inválida.\")"
   ]
  }
 ],
 "metadata": {
  "kernelspec": {
   "display_name": "base",
   "language": "python",
   "name": "python3"
  },
  "language_info": {
   "codemirror_mode": {
    "name": "ipython",
    "version": 3
   },
   "file_extension": ".py",
   "mimetype": "text/x-python",
   "name": "python",
   "nbconvert_exporter": "python",
   "pygments_lexer": "ipython3",
   "version": "3.12.7"
  }
 },
 "nbformat": 4,
 "nbformat_minor": 5
}
